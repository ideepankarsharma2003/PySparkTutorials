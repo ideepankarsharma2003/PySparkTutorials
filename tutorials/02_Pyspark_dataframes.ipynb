{
 "cells": [
  {
   "cell_type": "code",
   "execution_count": 1,
   "metadata": {},
   "outputs": [],
   "source": [
    "import os; os.chdir('..')"
   ]
  },
  {
   "cell_type": "markdown",
   "metadata": {},
   "source": [
    "# PySpark Dataframes"
   ]
  },
  {
   "cell_type": "code",
   "execution_count": 2,
   "metadata": {},
   "outputs": [],
   "source": [
    "from pyspark.sql import SparkSession"
   ]
  },
  {
   "cell_type": "code",
   "execution_count": 3,
   "metadata": {},
   "outputs": [
    {
     "name": "stderr",
     "output_type": "stream",
     "text": [
      "bash: /home/ubuntu/anaconda3/lib/libtinfo.so.6: no version information available (required by bash)\n",
      "bash: /home/ubuntu/anaconda3/lib/libtinfo.so.6: no version information available (required by bash)\n",
      "Setting default log level to \"WARN\".\n",
      "To adjust logging level use sc.setLogLevel(newLevel). For SparkR, use setLogLevel(newLevel).\n",
      "23/10/26 06:15:35 WARN NativeCodeLoader: Unable to load native-hadoop library for your platform... using builtin-java classes where applicable\n"
     ]
    }
   ],
   "source": [
    "spark= SparkSession.builder.appName('Dataframe Practice').getOrCreate()"
   ]
  },
  {
   "cell_type": "code",
   "execution_count": 4,
   "metadata": {},
   "outputs": [
    {
     "data": {
      "text/html": [
       "\n",
       "            <div>\n",
       "                <p><b>SparkSession - in-memory</b></p>\n",
       "                \n",
       "        <div>\n",
       "            <p><b>SparkContext</b></p>\n",
       "\n",
       "            <p><a href=\"http://ip-172-31-95-165.ec2.internal:4040\">Spark UI</a></p>\n",
       "\n",
       "            <dl>\n",
       "              <dt>Version</dt>\n",
       "                <dd><code>v3.5.0</code></dd>\n",
       "              <dt>Master</dt>\n",
       "                <dd><code>local[*]</code></dd>\n",
       "              <dt>AppName</dt>\n",
       "                <dd><code>Dataframe Practice</code></dd>\n",
       "            </dl>\n",
       "        </div>\n",
       "        \n",
       "            </div>\n",
       "        "
      ],
      "text/plain": [
       "<pyspark.sql.session.SparkSession at 0x7f02c5ffcbb0>"
      ]
     },
     "execution_count": 4,
     "metadata": {},
     "output_type": "execute_result"
    }
   ],
   "source": [
    "spark"
   ]
  },
  {
   "cell_type": "code",
   "execution_count": 5,
   "metadata": {},
   "outputs": [
    {
     "name": "stdout",
     "output_type": "stream",
     "text": [
      "+---------+---+----------+\n",
      "|     name|age|experience|\n",
      "+---------+---+----------+\n",
      "|Deepankar| 20|         1|\n",
      "|     Lina| 23|        18|\n",
      "|   Jordan| 20|         7|\n",
      "|    Jessi| 18|         5|\n",
      "|     Bree| 16|         3|\n",
      "+---------+---+----------+\n",
      "\n"
     ]
    }
   ],
   "source": [
    "# read the dataset\n",
    "spark.read.option('header', 'true').csv('data/data_01.csv').show()"
   ]
  },
  {
   "cell_type": "code",
   "execution_count": 6,
   "metadata": {},
   "outputs": [
    {
     "name": "stdout",
     "output_type": "stream",
     "text": [
      "root\n",
      " |-- name: string (nullable = true)\n",
      " |-- age: string (nullable = true)\n",
      " |-- experience: string (nullable = true)\n",
      "\n"
     ]
    }
   ],
   "source": [
    "# show schema\n",
    "spark.read.option('header', 'true').csv('data/data_01.csv').printSchema()"
   ]
  },
  {
   "cell_type": "code",
   "execution_count": 7,
   "metadata": {},
   "outputs": [
    {
     "name": "stdout",
     "output_type": "stream",
     "text": [
      "root\n",
      " |-- name: string (nullable = true)\n",
      " |-- age: integer (nullable = true)\n",
      " |-- experience: integer (nullable = true)\n",
      "\n"
     ]
    }
   ],
   "source": [
    "# show schema\n",
    "spark.read.option('header', 'true').csv('data/data_01.csv', inferSchema=True).printSchema()"
   ]
  },
  {
   "cell_type": "code",
   "execution_count": 8,
   "metadata": {},
   "outputs": [
    {
     "name": "stdout",
     "output_type": "stream",
     "text": [
      "root\n",
      " |-- name: string (nullable = true)\n",
      " |-- age: integer (nullable = true)\n",
      " |-- experience: integer (nullable = true)\n",
      "\n"
     ]
    }
   ],
   "source": [
    "spark.read.csv(\n",
    "    'data/data_01.csv',\n",
    "    header=True,\n",
    "    inferSchema= True\n",
    ").printSchema()"
   ]
  },
  {
   "cell_type": "code",
   "execution_count": 9,
   "metadata": {},
   "outputs": [
    {
     "name": "stdout",
     "output_type": "stream",
     "text": [
      "+---------+---+----------+\n",
      "|     name|age|experience|\n",
      "+---------+---+----------+\n",
      "|Deepankar| 20|         1|\n",
      "|     Lina| 23|        18|\n",
      "|   Jordan| 20|         7|\n",
      "|    Jessi| 18|         5|\n",
      "|     Bree| 16|         3|\n",
      "+---------+---+----------+\n",
      "\n"
     ]
    }
   ],
   "source": [
    "spark.read.csv(\n",
    "    'data/data_01.csv',\n",
    "    header=True,\n",
    "    inferSchema= True\n",
    ").show()"
   ]
  },
  {
   "cell_type": "code",
   "execution_count": 10,
   "metadata": {},
   "outputs": [
    {
     "name": "stdout",
     "output_type": "stream",
     "text": [
      "<class 'pyspark.sql.dataframe.DataFrame'>\n",
      "+---------+---+----------+\n",
      "|     name|age|experience|\n",
      "+---------+---+----------+\n",
      "|Deepankar| 20|         1|\n",
      "|     Lina| 23|        18|\n",
      "|   Jordan| 20|         7|\n",
      "|    Jessi| 18|         5|\n",
      "|     Bree| 16|         3|\n",
      "+---------+---+----------+\n",
      "\n"
     ]
    }
   ],
   "source": [
    "# Dataframe is a data structure\n",
    "df_pyspark= spark.read.csv(\n",
    "    'data/data_01.csv',\n",
    "    header=True,\n",
    "    inferSchema= True\n",
    ")\n",
    "print(type(df_pyspark))\n",
    "df_pyspark.show()"
   ]
  },
  {
   "cell_type": "code",
   "execution_count": 11,
   "metadata": {},
   "outputs": [
    {
     "data": {
      "text/plain": [
       "['name', 'age', 'experience']"
      ]
     },
     "execution_count": 11,
     "metadata": {},
     "output_type": "execute_result"
    }
   ],
   "source": [
    "df_pyspark.columns"
   ]
  },
  {
   "cell_type": "code",
   "execution_count": 12,
   "metadata": {},
   "outputs": [
    {
     "data": {
      "text/plain": [
       "DataFrame[Name: string]"
      ]
     },
     "execution_count": 12,
     "metadata": {},
     "output_type": "execute_result"
    }
   ],
   "source": [
    "df_pyspark.select('Name')"
   ]
  },
  {
   "cell_type": "code",
   "execution_count": 13,
   "metadata": {},
   "outputs": [
    {
     "data": {
      "text/plain": [
       "DataFrame[Name: string, Experience: int]"
      ]
     },
     "execution_count": 13,
     "metadata": {},
     "output_type": "execute_result"
    }
   ],
   "source": [
    "df_pyspark.select(['Name', 'Experience'])\n"
   ]
  },
  {
   "cell_type": "code",
   "execution_count": 14,
   "metadata": {},
   "outputs": [
    {
     "name": "stdout",
     "output_type": "stream",
     "text": [
      "+---------+----------+\n",
      "|     Name|Experience|\n",
      "+---------+----------+\n",
      "|Deepankar|         1|\n",
      "|     Lina|        18|\n",
      "|   Jordan|         7|\n",
      "|    Jessi|         5|\n",
      "|     Bree|         3|\n",
      "+---------+----------+\n",
      "\n"
     ]
    }
   ],
   "source": [
    "df_pyspark.select(['Name', 'Experience']).show()"
   ]
  },
  {
   "cell_type": "code",
   "execution_count": 15,
   "metadata": {},
   "outputs": [
    {
     "data": {
      "text/plain": [
       "Column<'experience'>"
      ]
     },
     "execution_count": 15,
     "metadata": {},
     "output_type": "execute_result"
    }
   ],
   "source": [
    "df_pyspark['experience']"
   ]
  },
  {
   "cell_type": "code",
   "execution_count": 16,
   "metadata": {},
   "outputs": [
    {
     "data": {
      "text/plain": [
       "[('name', 'string'), ('age', 'int'), ('experience', 'int')]"
      ]
     },
     "execution_count": 16,
     "metadata": {},
     "output_type": "execute_result"
    }
   ],
   "source": [
    "df_pyspark.dtypes"
   ]
  },
  {
   "cell_type": "code",
   "execution_count": 17,
   "metadata": {},
   "outputs": [
    {
     "data": {
      "text/plain": [
       "DataFrame[summary: string, name: string, age: string, experience: string]"
      ]
     },
     "execution_count": 17,
     "metadata": {},
     "output_type": "execute_result"
    }
   ],
   "source": [
    "df_pyspark.describe()"
   ]
  },
  {
   "cell_type": "code",
   "execution_count": 18,
   "metadata": {},
   "outputs": [
    {
     "name": "stdout",
     "output_type": "stream",
     "text": [
      "+-------+----+------------------+-----------------+\n",
      "|summary|name|               age|       experience|\n",
      "+-------+----+------------------+-----------------+\n",
      "|  count|   5|                 5|                5|\n",
      "|   mean|NULL|              19.4|              6.8|\n",
      "| stddev|NULL|2.6076809620810595|6.648308055437865|\n",
      "|    min|Bree|                16|                1|\n",
      "|    max|Lina|                23|               18|\n",
      "+-------+----+------------------+-----------------+\n",
      "\n"
     ]
    }
   ],
   "source": [
    "df_pyspark.describe().show()"
   ]
  },
  {
   "cell_type": "code",
   "execution_count": 19,
   "metadata": {},
   "outputs": [
    {
     "name": "stdout",
     "output_type": "stream",
     "text": [
      "+---------+---+----------+--------------------------+\n",
      "|     name|age|experience|Experience after two years|\n",
      "+---------+---+----------+--------------------------+\n",
      "|Deepankar| 20|         1|                         3|\n",
      "|     Lina| 23|        18|                        20|\n",
      "|   Jordan| 20|         7|                         9|\n",
      "|    Jessi| 18|         5|                         7|\n",
      "|     Bree| 16|         3|                         5|\n",
      "+---------+---+----------+--------------------------+\n",
      "\n"
     ]
    }
   ],
   "source": [
    "# Adding columns to the pyspark dataframe\n",
    "df_pyspark.withColumn(\n",
    "    'Experience after two years', # column we want to add\n",
    "    df_pyspark['experience']+2 # value\n",
    ").show()"
   ]
  },
  {
   "cell_type": "code",
   "execution_count": 21,
   "metadata": {},
   "outputs": [
    {
     "name": "stdout",
     "output_type": "stream",
     "text": [
      "+---------+---+\n",
      "|     name|age|\n",
      "+---------+---+\n",
      "|Deepankar| 20|\n",
      "|     Lina| 23|\n",
      "|   Jordan| 20|\n",
      "|    Jessi| 18|\n",
      "|     Bree| 16|\n",
      "+---------+---+\n",
      "\n"
     ]
    }
   ],
   "source": [
    "# Drop the column \n",
    "df_pyspark.drop(\n",
    "    'experience' # column/list of columns we want to drop\n",
    ").show()"
   ]
  },
  {
   "cell_type": "code",
   "execution_count": 22,
   "metadata": {},
   "outputs": [
    {
     "name": "stdout",
     "output_type": "stream",
     "text": [
      "+----------+---+----------+\n",
      "|first_name|age|experience|\n",
      "+----------+---+----------+\n",
      "| Deepankar| 20|         1|\n",
      "|      Lina| 23|        18|\n",
      "|    Jordan| 20|         7|\n",
      "|     Jessi| 18|         5|\n",
      "|      Bree| 16|         3|\n",
      "+----------+---+----------+\n",
      "\n"
     ]
    }
   ],
   "source": [
    "# Renaming the columns \n",
    "df_pyspark.withColumnRenamed(\n",
    "    'name', # actual value of the column name\n",
    "    'first_name' # value\n",
    ").show()"
   ]
  },
  {
   "cell_type": "markdown",
   "metadata": {},
   "source": [
    "# PySpark handling the missing values\n",
    "- dropping columns \n",
    "- dropping rows \n",
    "- various parameters in dropping functionalities\n",
    "- handling missing values by mean"
   ]
  },
  {
   "cell_type": "code",
   "execution_count": 27,
   "metadata": {},
   "outputs": [
    {
     "name": "stdout",
     "output_type": "stream",
     "text": [
      "/bin/bash: /home/ubuntu/anaconda3/lib/libtinfo.so.6: no version information available (required by /bin/bash)\n",
      "\u001b[01;34m.\u001b[0m\n",
      "├── \u001b[01;34mdata\u001b[0m\n",
      "│   └── \u001b[00mdata_01.csv\u001b[0m\n",
      "└── \u001b[01;34mtutorials\u001b[0m\n",
      "    ├── \u001b[00m01_basic_installation.ipynb\u001b[0m\n",
      "    ├── \u001b[00m02_Pyspark_dataframes.ipynb\u001b[0m\n",
      "    └── \u001b[00mdemo.csv\u001b[0m\n",
      "\n",
      "2 directories, 4 files\n"
     ]
    }
   ],
   "source": [
    "! tree -I venv"
   ]
  },
  {
   "cell_type": "code",
   "execution_count": 28,
   "metadata": {},
   "outputs": [
    {
     "data": {
      "text/html": [
       "\n",
       "            <div>\n",
       "                <p><b>SparkSession - in-memory</b></p>\n",
       "                \n",
       "        <div>\n",
       "            <p><b>SparkContext</b></p>\n",
       "\n",
       "            <p><a href=\"http://ip-172-31-95-165.ec2.internal:4040\">Spark UI</a></p>\n",
       "\n",
       "            <dl>\n",
       "              <dt>Version</dt>\n",
       "                <dd><code>v3.5.0</code></dd>\n",
       "              <dt>Master</dt>\n",
       "                <dd><code>local[*]</code></dd>\n",
       "              <dt>AppName</dt>\n",
       "                <dd><code>Dataframe Practice</code></dd>\n",
       "            </dl>\n",
       "        </div>\n",
       "        \n",
       "            </div>\n",
       "        "
      ],
      "text/plain": [
       "<pyspark.sql.session.SparkSession at 0x7f02c5ffcbb0>"
      ]
     },
     "execution_count": 28,
     "metadata": {},
     "output_type": "execute_result"
    }
   ],
   "source": [
    "spark"
   ]
  },
  {
   "cell_type": "code",
   "execution_count": 57,
   "metadata": {},
   "outputs": [
    {
     "name": "stdout",
     "output_type": "stream",
     "text": [
      "+------------------+----+----------+--------+\n",
      "|              name| age|experience|  salary|\n",
      "+------------------+----+----------+--------+\n",
      "|         Deepankar|  20|         1| 50000.0|\n",
      "|              Lina|  23|        18|530000.0|\n",
      "|            Jordan|  20|         7| 1.555E7|\n",
      "|             Jessi|  18|         5|450000.0|\n",
      "|              Bree|  16|         3| 10000.0|\n",
      "|              Ulga|NULL|      NULL|345566.0|\n",
      "|        Harrington|  12|      NULL|150000.0|\n",
      "|           Harshit|NULL|      NULL|    NULL|\n",
      "|         Aparichit|NULL|      NULL|    NULL|\n",
      "|Ameer Bap ki Aulad|  34|         5|900300.0|\n",
      "|           DK Bose|NULL|         0|104000.0|\n",
      "|              NULL|NULL|      NULL|    NULL|\n",
      "+------------------+----+----------+--------+\n",
      "\n"
     ]
    }
   ],
   "source": [
    "df_pyspark= spark.read.csv(\n",
    "    'data/data_02.csv',\n",
    "    header= True,\n",
    "    inferSchema= True\n",
    ")\n",
    "df_pyspark.show()"
   ]
  },
  {
   "cell_type": "code",
   "execution_count": 58,
   "metadata": {},
   "outputs": [
    {
     "data": {
      "text/plain": [
       "DataFrame[name: string, age: int, experience: int, salary: double]"
      ]
     },
     "execution_count": 58,
     "metadata": {},
     "output_type": "execute_result"
    }
   ],
   "source": [
    "df_pyspark"
   ]
  },
  {
   "cell_type": "code",
   "execution_count": 59,
   "metadata": {},
   "outputs": [
    {
     "name": "stdout",
     "output_type": "stream",
     "text": [
      "+------------------+---+----------+--------+\n",
      "|              name|age|experience|  salary|\n",
      "+------------------+---+----------+--------+\n",
      "|         Deepankar| 20|         1| 50000.0|\n",
      "|              Lina| 23|        18|530000.0|\n",
      "|            Jordan| 20|         7| 1.555E7|\n",
      "|             Jessi| 18|         5|450000.0|\n",
      "|              Bree| 16|         3| 10000.0|\n",
      "|Ameer Bap ki Aulad| 34|         5|900300.0|\n",
      "+------------------+---+----------+--------+\n",
      "\n"
     ]
    }
   ],
   "source": [
    "df_pyspark.na.drop().show() # drop all the rows with any NA value"
   ]
  },
  {
   "cell_type": "code",
   "execution_count": 60,
   "metadata": {},
   "outputs": [
    {
     "name": "stdout",
     "output_type": "stream",
     "text": [
      "+------------------+----+----------+--------+\n",
      "|              name| age|experience|  salary|\n",
      "+------------------+----+----------+--------+\n",
      "|         Deepankar|  20|         1| 50000.0|\n",
      "|              Lina|  23|        18|530000.0|\n",
      "|            Jordan|  20|         7| 1.555E7|\n",
      "|             Jessi|  18|         5|450000.0|\n",
      "|              Bree|  16|         3| 10000.0|\n",
      "|              Ulga|NULL|      NULL|345566.0|\n",
      "|        Harrington|  12|      NULL|150000.0|\n",
      "|           Harshit|NULL|      NULL|    NULL|\n",
      "|         Aparichit|NULL|      NULL|    NULL|\n",
      "|Ameer Bap ki Aulad|  34|         5|900300.0|\n",
      "|           DK Bose|NULL|         0|104000.0|\n",
      "+------------------+----+----------+--------+\n",
      "\n"
     ]
    }
   ],
   "source": [
    "# how = any ----> drop all rows with 'any' null value *default*\n",
    "# how = all ----> drop all rows with 'all' null values\n",
    "\n",
    "df_pyspark.na.drop(how='all').show() # drop all the rows with 'all' NA value\n",
    " "
   ]
  },
  {
   "cell_type": "code",
   "execution_count": 61,
   "metadata": {},
   "outputs": [
    {
     "name": "stdout",
     "output_type": "stream",
     "text": [
      "+------------------+----+----------+--------+\n",
      "|              name| age|experience|  salary|\n",
      "+------------------+----+----------+--------+\n",
      "|         Deepankar|  20|         1| 50000.0|\n",
      "|              Lina|  23|        18|530000.0|\n",
      "|            Jordan|  20|         7| 1.555E7|\n",
      "|             Jessi|  18|         5|450000.0|\n",
      "|              Bree|  16|         3| 10000.0|\n",
      "|        Harrington|  12|      NULL|150000.0|\n",
      "|Ameer Bap ki Aulad|  34|         5|900300.0|\n",
      "|           DK Bose|NULL|         0|104000.0|\n",
      "+------------------+----+----------+--------+\n",
      "\n"
     ]
    }
   ],
   "source": [
    "# threshold\n",
    "df_pyspark.na.drop(thresh=3).show() # keep only those rows with at least 3 non-na values\n"
   ]
  },
  {
   "cell_type": "code",
   "execution_count": 62,
   "metadata": {},
   "outputs": [
    {
     "name": "stdout",
     "output_type": "stream",
     "text": [
      "+------------------+----+----------+--------+\n",
      "|              name| age|experience|  salary|\n",
      "+------------------+----+----------+--------+\n",
      "|         Deepankar|  20|         1| 50000.0|\n",
      "|              Lina|  23|        18|530000.0|\n",
      "|            Jordan|  20|         7| 1.555E7|\n",
      "|             Jessi|  18|         5|450000.0|\n",
      "|              Bree|  16|         3| 10000.0|\n",
      "|              Ulga|NULL|      NULL|345566.0|\n",
      "|        Harrington|  12|      NULL|150000.0|\n",
      "|Ameer Bap ki Aulad|  34|         5|900300.0|\n",
      "|           DK Bose|NULL|         0|104000.0|\n",
      "+------------------+----+----------+--------+\n",
      "\n"
     ]
    }
   ],
   "source": [
    "# Subset\n",
    "df_pyspark.na.drop(subset=['name', 'salary']).show() # drop only those rows , where name or salary is NA\n"
   ]
  },
  {
   "cell_type": "code",
   "execution_count": 63,
   "metadata": {},
   "outputs": [
    {
     "name": "stdout",
     "output_type": "stream",
     "text": [
      "+------------------+----+----------+--------+\n",
      "|              name| age|experience|  salary|\n",
      "+------------------+----+----------+--------+\n",
      "|         Deepankar|  20|         1| 50000.0|\n",
      "|              Lina|  23|        18|530000.0|\n",
      "|            Jordan|  20|         7| 1.555E7|\n",
      "|             Jessi|  18|         5|450000.0|\n",
      "|              Bree|  16|         3| 10000.0|\n",
      "|              Ulga|NULL|      NULL|345566.0|\n",
      "|        Harrington|  12|      NULL|150000.0|\n",
      "|           Harshit|NULL|      NULL|    NULL|\n",
      "|         Aparichit|NULL|      NULL|    NULL|\n",
      "|Ameer Bap ki Aulad|  34|         5|900300.0|\n",
      "|           DK Bose|NULL|         0|104000.0|\n",
      "|     MISSING VALUE|NULL|      NULL|    NULL|\n",
      "+------------------+----+----------+--------+\n",
      "\n"
     ]
    }
   ],
   "source": [
    "# filling the missing values\n",
    "df_pyspark.na.fill(\n",
    "    'MISSING VALUE', # value to be filled\n",
    "    ['name'] # target column\n",
    ").show()"
   ]
  },
  {
   "cell_type": "code",
   "execution_count": 64,
   "metadata": {},
   "outputs": [
    {
     "data": {
      "text/plain": [
       "DataFrame[name: string, age: int, experience: int, salary: double]"
      ]
     },
     "execution_count": 64,
     "metadata": {},
     "output_type": "execute_result"
    }
   ],
   "source": [
    "df_pyspark  # experience is inferred as string :("
   ]
  },
  {
   "cell_type": "code",
   "execution_count": 65,
   "metadata": {},
   "outputs": [
    {
     "name": "stdout",
     "output_type": "stream",
     "text": [
      "+------------------+---+----------+--------+\n",
      "|              name|age|experience|  salary|\n",
      "+------------------+---+----------+--------+\n",
      "|         Deepankar| 20|         1| 50000.0|\n",
      "|              Lina| 23|        18|530000.0|\n",
      "|            Jordan| 20|         7| 1.555E7|\n",
      "|             Jessi| 18|         5|450000.0|\n",
      "|              Bree| 16|         3| 10000.0|\n",
      "|              Ulga|  0|         0|345566.0|\n",
      "|        Harrington| 12|         0|150000.0|\n",
      "|           Harshit|  0|         0|     0.0|\n",
      "|         Aparichit|  0|         0|     0.0|\n",
      "|Ameer Bap ki Aulad| 34|         5|900300.0|\n",
      "|           DK Bose|  0|         0|104000.0|\n",
      "|              NULL|  0|         0|     0.0|\n",
      "+------------------+---+----------+--------+\n",
      "\n"
     ]
    }
   ],
   "source": [
    "# filling the missing values\n",
    "df_pyspark.na.fill(\n",
    "    0, # value to be filled\n",
    "    # ['age'] # target column\n",
    ").show()"
   ]
  },
  {
   "cell_type": "code",
   "execution_count": 66,
   "metadata": {},
   "outputs": [
    {
     "name": "stdout",
     "output_type": "stream",
     "text": [
      "+------------------+----+----------+--------+\n",
      "|              name| age|experience|  salary|\n",
      "+------------------+----+----------+--------+\n",
      "|         Deepankar|  20|         1| 50000.0|\n",
      "|              Lina|  23|        18|530000.0|\n",
      "|            Jordan|  20|         7| 1.555E7|\n",
      "|             Jessi|  18|         5|450000.0|\n",
      "|              Bree|  16|         3| 10000.0|\n",
      "|              Ulga|NULL|      NULL|345566.0|\n",
      "|        Harrington|  12|      NULL|150000.0|\n",
      "|           Harshit|NULL|      NULL|    NULL|\n",
      "|         Aparichit|NULL|      NULL|    NULL|\n",
      "|Ameer Bap ki Aulad|  34|         5|900300.0|\n",
      "|           DK Bose|NULL|         0|104000.0|\n",
      "|              NULL|NULL|      NULL|    NULL|\n",
      "+------------------+----+----------+--------+\n",
      "\n"
     ]
    }
   ],
   "source": [
    "df_pyspark.show()"
   ]
  },
  {
   "cell_type": "code",
   "execution_count": 67,
   "metadata": {},
   "outputs": [],
   "source": [
    "# Imputer \n",
    "from pyspark.ml.feature import Imputer\n",
    "\n",
    "imputer= Imputer(\n",
    "    inputCols=['age', 'experience', 'salary'],\n",
    "    outputCols=[f'{c}_imputed' for c in ['age', 'experience', 'salary']]\n",
    ").setStrategy('mean')"
   ]
  },
  {
   "cell_type": "code",
   "execution_count": 68,
   "metadata": {},
   "outputs": [
    {
     "name": "stdout",
     "output_type": "stream",
     "text": [
      "+------------------+----+----------+--------+-----------+------------------+-----------------+\n",
      "|              name| age|experience|  salary|age_imputed|experience_imputed|   salary_imputed|\n",
      "+------------------+----+----------+--------+-----------+------------------+-----------------+\n",
      "|         Deepankar|  20|         1| 50000.0|         20|                 1|          50000.0|\n",
      "|              Lina|  23|        18|530000.0|         23|                18|         530000.0|\n",
      "|            Jordan|  20|         7| 1.555E7|         20|                 7|          1.555E7|\n",
      "|             Jessi|  18|         5|450000.0|         18|                 5|         450000.0|\n",
      "|              Bree|  16|         3| 10000.0|         16|                 3|          10000.0|\n",
      "|              Ulga|NULL|      NULL|345566.0|         20|                 5|         345566.0|\n",
      "|        Harrington|  12|      NULL|150000.0|         12|                 5|         150000.0|\n",
      "|           Harshit|NULL|      NULL|    NULL|         20|                 5|2009985.111111111|\n",
      "|         Aparichit|NULL|      NULL|    NULL|         20|                 5|2009985.111111111|\n",
      "|Ameer Bap ki Aulad|  34|         5|900300.0|         34|                 5|         900300.0|\n",
      "|           DK Bose|NULL|         0|104000.0|         20|                 0|         104000.0|\n",
      "|              NULL|NULL|      NULL|    NULL|         20|                 5|2009985.111111111|\n",
      "+------------------+----+----------+--------+-----------+------------------+-----------------+\n",
      "\n"
     ]
    }
   ],
   "source": [
    "imputer.fit(\n",
    "    df_pyspark\n",
    ").transform(df_pyspark).show()"
   ]
  },
  {
   "cell_type": "code",
   "execution_count": null,
   "metadata": {},
   "outputs": [],
   "source": []
  }
 ],
 "metadata": {
  "kernelspec": {
   "display_name": "venv",
   "language": "python",
   "name": "python3"
  },
  "language_info": {
   "codemirror_mode": {
    "name": "ipython",
    "version": 3
   },
   "file_extension": ".py",
   "mimetype": "text/x-python",
   "name": "python",
   "nbconvert_exporter": "python",
   "pygments_lexer": "ipython3",
   "version": "3.10.12"
  }
 },
 "nbformat": 4,
 "nbformat_minor": 2
}
